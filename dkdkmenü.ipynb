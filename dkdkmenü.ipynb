{
  "nbformat": 4,
  "nbformat_minor": 0,
  "metadata": {
    "colab": {
      "provenance": [],
      "authorship_tag": "ABX9TyOZxMz6fh7aI1eJFynFvQvt",
      "include_colab_link": true
    },
    "kernelspec": {
      "name": "python3",
      "display_name": "Python 3"
    },
    "language_info": {
      "name": "python"
    }
  },
  "cells": [
    {
      "cell_type": "markdown",
      "metadata": {
        "id": "view-in-github",
        "colab_type": "text"
      },
      "source": [
        "<a href=\"https://colab.research.google.com/github/dlyktl/java101/blob/main/dkdkmen%C3%BC.ipynb\" target=\"_parent\"><img src=\"https://colab.research.google.com/assets/colab-badge.svg\" alt=\"Open In Colab\"/></a>"
      ]
    },
    {
      "cell_type": "code",
      "source": [
        "pizza_menu = ['Coco pizza', 'Margarita','Napoliten', 'Vegan Pizza','Chicago Usulü Pizza','Türk Uslü', 'Mantar Rüyası', 'Deniz Mahsüllü' ]\n",
        "extra_menu = ['Mozerella','Soğan','Zeytin','Mantar']\n",
        "pizza_fiyat = {'Coco pizza': 15, 'Margarita': 9,'Napoliten': 10, 'Vegan Pizza': 10,'Chicago Usulü Pizza': 13,'Türk Uslü': 14,'Mantar Rüyası': 12, 'Deniz Mahsüllü': 14}\n",
        "extra_fiyat = {'Mozerella':3,'Soğan':2,'Zeytin':2,'Mantar':3}\n",
        "toplam = []\n",
        "net_sparis = []\n",
        "musteri_bilgi = []\n",
        "print(\"Namnam Restoranta Hoşgeldiniz Lütfen Bir Spariş Girniz\")\n",
        "pizza_sparis = True\n",
        "while pizza_sparis:\n",
        "    for menu in pizza_menu:\n",
        "      print(menu)\n",
        "\n",
        "    while True:\n",
        "        pizza = input()\n",
        "        if pizza in pizza_menu:\n",
        "          print(\"Seçiminiz: \" + pizza)\n",
        "          toplam.append(pizza_fiyat[pizza])\n",
        "          break\n",
        "        if pizza not in pizza_menu:\n",
        "          print(\"Üzgünüz, girdiniz isimde pizzamız mevcut değildir.\")\n",
        "\n",
        "\n",
        "    extra_m_sparis = True  \n",
        "    for emenu in extra_menu:\n",
        "      print(emenu)\n",
        "    while extra_m_sparis:\n",
        "      sec1 = input(\"Extra malzeme ister misniz?\")\n",
        "\n",
        "      if sec1 == \"evet\":\n",
        "        esec = input(\"Lütfen İstediğiniz Extra malzemeyi girniz.\")\n",
        "        if esec in extra_menu:\n",
        "            print(\"Seçiminiz:\"+esec)\n",
        "            toplam.append(extra_fiyat[esec])\n",
        "        else:\n",
        "            print(\"Üzgünüz istediğiniz malzeme menüde bulunmamaktadır.\")\n",
        "      elif sec1 == \"hayır\":\n",
        "        break\n",
        "    extra_pizza = input(\"Extra pizza ister misiniz?\")\n",
        "    if extra_pizza == \"hayır\":\n",
        "        print(\"\\nSparişiniz:\" + pizza + \"Ekstra\" )\n",
        "        print(f\"\\nÖdenecek Tutar:  {sum(toplam)}\")\n",
        "\n",
        "        kontrol = True\n",
        "        kontrol = input(\"Sparışı Kabul ediyor musunuz?\")\n",
        "        if kontrol == \"evet\":\n",
        "          mbilgi = input(\"Lütfen isim ve adres bilgilerinizi giriniz: \")"
      ],
      "metadata": {
        "id": "sDtPH4DnXVgA",
        "outputId": "d1e39699-1a07-4e8b-8183-06783972a476",
        "colab": {
          "base_uri": "https://localhost:8080/",
          "height": 918
        }
      },
      "execution_count": 1,
      "outputs": [
        {
          "output_type": "stream",
          "name": "stdout",
          "text": [
            "Namnam Restoranta Hoşgeldiniz Lütfen Bir Spariş Girniz\n",
            "Coco pizza\n",
            "Margarita\n",
            "Napoliten\n",
            "Vegan Pizza\n",
            "Chicago Usulü Pizza\n",
            "Türk Uslü\n",
            "Mantar Rüyası\n",
            "Deniz Mahsüllü\n",
            "Deniz Mahsüllü\n",
            "Seçiminiz: Deniz Mahsüllü\n",
            "Mozerella\n",
            "Soğan\n",
            "Zeytin\n",
            "Mantar\n",
            "Extra malzeme ister misniz?hayır\n",
            "Extra pizza ister misiniz?hayır\n",
            "\n",
            "Sparişiniz:Deniz MahsüllüEkstra\n",
            "\n",
            "Ödenecek Tutar:  14\n",
            "Sparışı Kabul ediyor musunuz?evet\n",
            "Lütfen isim ve adres bilgilerinizi giriniz: jasndask\n",
            "Coco pizza\n",
            "Margarita\n",
            "Napoliten\n",
            "Vegan Pizza\n",
            "Chicago Usulü Pizza\n",
            "Türk Uslü\n",
            "Mantar Rüyası\n",
            "Deniz Mahsüllü\n"
          ]
        },
        {
          "output_type": "error",
          "ename": "KeyboardInterrupt",
          "evalue": "ignored",
          "traceback": [
            "\u001b[0;31m---------------------------------------------------------------------------\u001b[0m",
            "\u001b[0;31mKeyboardInterrupt\u001b[0m                         Traceback (most recent call last)",
            "\u001b[0;32m<ipython-input-1-0d01e3bfe419>\u001b[0m in \u001b[0;36m<module>\u001b[0;34m\u001b[0m\n\u001b[1;32m     13\u001b[0m \u001b[0;34m\u001b[0m\u001b[0m\n\u001b[1;32m     14\u001b[0m     \u001b[0;32mwhile\u001b[0m \u001b[0;32mTrue\u001b[0m\u001b[0;34m:\u001b[0m\u001b[0;34m\u001b[0m\u001b[0;34m\u001b[0m\u001b[0m\n\u001b[0;32m---> 15\u001b[0;31m         \u001b[0mpizza\u001b[0m \u001b[0;34m=\u001b[0m \u001b[0minput\u001b[0m\u001b[0;34m(\u001b[0m\u001b[0;34m)\u001b[0m\u001b[0;34m\u001b[0m\u001b[0;34m\u001b[0m\u001b[0m\n\u001b[0m\u001b[1;32m     16\u001b[0m         \u001b[0;32mif\u001b[0m \u001b[0mpizza\u001b[0m \u001b[0;32min\u001b[0m \u001b[0mpizza_menu\u001b[0m\u001b[0;34m:\u001b[0m\u001b[0;34m\u001b[0m\u001b[0;34m\u001b[0m\u001b[0m\n\u001b[1;32m     17\u001b[0m           \u001b[0mprint\u001b[0m\u001b[0;34m(\u001b[0m\u001b[0;34m\"Seçiminiz: \"\u001b[0m \u001b[0;34m+\u001b[0m \u001b[0mpizza\u001b[0m\u001b[0;34m)\u001b[0m\u001b[0;34m\u001b[0m\u001b[0;34m\u001b[0m\u001b[0m\n",
            "\u001b[0;32m/usr/local/lib/python3.9/dist-packages/ipykernel/kernelbase.py\u001b[0m in \u001b[0;36mraw_input\u001b[0;34m(self, prompt)\u001b[0m\n\u001b[1;32m    858\u001b[0m                 \u001b[0;34m\"raw_input was called, but this frontend does not support input requests.\"\u001b[0m\u001b[0;34m\u001b[0m\u001b[0;34m\u001b[0m\u001b[0m\n\u001b[1;32m    859\u001b[0m             )\n\u001b[0;32m--> 860\u001b[0;31m         return self._input_request(str(prompt),\n\u001b[0m\u001b[1;32m    861\u001b[0m             \u001b[0mself\u001b[0m\u001b[0;34m.\u001b[0m\u001b[0m_parent_ident\u001b[0m\u001b[0;34m,\u001b[0m\u001b[0;34m\u001b[0m\u001b[0;34m\u001b[0m\u001b[0m\n\u001b[1;32m    862\u001b[0m             \u001b[0mself\u001b[0m\u001b[0;34m.\u001b[0m\u001b[0m_parent_header\u001b[0m\u001b[0;34m,\u001b[0m\u001b[0;34m\u001b[0m\u001b[0;34m\u001b[0m\u001b[0m\n",
            "\u001b[0;32m/usr/local/lib/python3.9/dist-packages/ipykernel/kernelbase.py\u001b[0m in \u001b[0;36m_input_request\u001b[0;34m(self, prompt, ident, parent, password)\u001b[0m\n\u001b[1;32m    902\u001b[0m             \u001b[0;32mexcept\u001b[0m \u001b[0mKeyboardInterrupt\u001b[0m\u001b[0;34m:\u001b[0m\u001b[0;34m\u001b[0m\u001b[0;34m\u001b[0m\u001b[0m\n\u001b[1;32m    903\u001b[0m                 \u001b[0;31m# re-raise KeyboardInterrupt, to truncate traceback\u001b[0m\u001b[0;34m\u001b[0m\u001b[0;34m\u001b[0m\u001b[0m\n\u001b[0;32m--> 904\u001b[0;31m                 \u001b[0;32mraise\u001b[0m \u001b[0mKeyboardInterrupt\u001b[0m\u001b[0;34m(\u001b[0m\u001b[0;34m\"Interrupted by user\"\u001b[0m\u001b[0;34m)\u001b[0m \u001b[0;32mfrom\u001b[0m \u001b[0;32mNone\u001b[0m\u001b[0;34m\u001b[0m\u001b[0;34m\u001b[0m\u001b[0m\n\u001b[0m\u001b[1;32m    905\u001b[0m             \u001b[0;32mexcept\u001b[0m \u001b[0mException\u001b[0m \u001b[0;32mas\u001b[0m \u001b[0me\u001b[0m\u001b[0;34m:\u001b[0m\u001b[0;34m\u001b[0m\u001b[0;34m\u001b[0m\u001b[0m\n\u001b[1;32m    906\u001b[0m                 \u001b[0mself\u001b[0m\u001b[0;34m.\u001b[0m\u001b[0mlog\u001b[0m\u001b[0;34m.\u001b[0m\u001b[0mwarning\u001b[0m\u001b[0;34m(\u001b[0m\u001b[0;34m\"Invalid Message:\"\u001b[0m\u001b[0;34m,\u001b[0m \u001b[0mexc_info\u001b[0m\u001b[0;34m=\u001b[0m\u001b[0;32mTrue\u001b[0m\u001b[0;34m)\u001b[0m\u001b[0;34m\u001b[0m\u001b[0;34m\u001b[0m\u001b[0m\n",
            "\u001b[0;31mKeyboardInterrupt\u001b[0m: Interrupted by user"
          ]
        }
      ]
    }
  ]
}